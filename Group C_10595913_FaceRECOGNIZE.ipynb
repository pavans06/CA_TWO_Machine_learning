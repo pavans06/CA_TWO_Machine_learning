{
 "cells": [
  {
   "cell_type": "markdown",
   "id": "d7cba129",
   "metadata": {},
   "source": [
    "# Hand Gesture recognition app in python"
   ]
  },
  {
   "cell_type": "markdown",
   "id": "ead6a9f4",
   "metadata": {},
   "source": [
    "Importing necessary libraries"
   ]
  },
  {
   "cell_type": "code",
   "execution_count": 1,
   "id": "f848aba4",
   "metadata": {},
   "outputs": [],
   "source": [
    "from sklearn.ensemble import RandomForestClassifier\n",
    "from sklearn.tree import DecisionTreeClassifier\n",
    "from sklearn.metrics import accuracy_score, confusion_matrix, classification_report\n",
    "from sklearn.linear_model import SGDClassifier\n",
    "from sklearn.model_selection import train_test_split\n",
    "from sklearn.preprocessing import StandardScaler\n",
    "from sklearn.decomposition import PCA\n",
    "import numpy as np\n",
    "import pandas as pd"
   ]
  },
  {
   "cell_type": "markdown",
   "id": "624b0d3e",
   "metadata": {},
   "source": [
    "Loading the dataset into the DataFrame"
   ]
  },
  {
   "cell_type": "code",
   "execution_count": 2,
   "id": "9a49b728",
   "metadata": {
    "scrolled": true
   },
   "outputs": [
    {
     "data": {
      "text/html": [
       "<div>\n",
       "<style scoped>\n",
       "    .dataframe tbody tr th:only-of-type {\n",
       "        vertical-align: middle;\n",
       "    }\n",
       "\n",
       "    .dataframe tbody tr th {\n",
       "        vertical-align: top;\n",
       "    }\n",
       "\n",
       "    .dataframe thead th {\n",
       "        text-align: right;\n",
       "    }\n",
       "</style>\n",
       "<table border=\"1\" class=\"dataframe\">\n",
       "  <thead>\n",
       "    <tr style=\"text-align: right;\">\n",
       "      <th></th>\n",
       "      <th>label</th>\n",
       "      <th>pixel1</th>\n",
       "      <th>pixel2</th>\n",
       "      <th>pixel3</th>\n",
       "      <th>pixel4</th>\n",
       "      <th>pixel5</th>\n",
       "      <th>pixel6</th>\n",
       "      <th>pixel7</th>\n",
       "      <th>pixel8</th>\n",
       "      <th>pixel9</th>\n",
       "      <th>...</th>\n",
       "      <th>pixel775</th>\n",
       "      <th>pixel776</th>\n",
       "      <th>pixel777</th>\n",
       "      <th>pixel778</th>\n",
       "      <th>pixel779</th>\n",
       "      <th>pixel780</th>\n",
       "      <th>pixel781</th>\n",
       "      <th>pixel782</th>\n",
       "      <th>pixel783</th>\n",
       "      <th>pixel784</th>\n",
       "    </tr>\n",
       "  </thead>\n",
       "  <tbody>\n",
       "    <tr>\n",
       "      <th>0</th>\n",
       "      <td>3</td>\n",
       "      <td>107</td>\n",
       "      <td>118</td>\n",
       "      <td>127</td>\n",
       "      <td>134</td>\n",
       "      <td>139</td>\n",
       "      <td>143</td>\n",
       "      <td>146</td>\n",
       "      <td>150</td>\n",
       "      <td>153</td>\n",
       "      <td>...</td>\n",
       "      <td>207</td>\n",
       "      <td>207</td>\n",
       "      <td>207</td>\n",
       "      <td>207</td>\n",
       "      <td>206</td>\n",
       "      <td>206</td>\n",
       "      <td>206</td>\n",
       "      <td>204</td>\n",
       "      <td>203</td>\n",
       "      <td>202</td>\n",
       "    </tr>\n",
       "    <tr>\n",
       "      <th>1</th>\n",
       "      <td>6</td>\n",
       "      <td>155</td>\n",
       "      <td>157</td>\n",
       "      <td>156</td>\n",
       "      <td>156</td>\n",
       "      <td>156</td>\n",
       "      <td>157</td>\n",
       "      <td>156</td>\n",
       "      <td>158</td>\n",
       "      <td>158</td>\n",
       "      <td>...</td>\n",
       "      <td>69</td>\n",
       "      <td>149</td>\n",
       "      <td>128</td>\n",
       "      <td>87</td>\n",
       "      <td>94</td>\n",
       "      <td>163</td>\n",
       "      <td>175</td>\n",
       "      <td>103</td>\n",
       "      <td>135</td>\n",
       "      <td>149</td>\n",
       "    </tr>\n",
       "    <tr>\n",
       "      <th>2</th>\n",
       "      <td>2</td>\n",
       "      <td>187</td>\n",
       "      <td>188</td>\n",
       "      <td>188</td>\n",
       "      <td>187</td>\n",
       "      <td>187</td>\n",
       "      <td>186</td>\n",
       "      <td>187</td>\n",
       "      <td>188</td>\n",
       "      <td>187</td>\n",
       "      <td>...</td>\n",
       "      <td>202</td>\n",
       "      <td>201</td>\n",
       "      <td>200</td>\n",
       "      <td>199</td>\n",
       "      <td>198</td>\n",
       "      <td>199</td>\n",
       "      <td>198</td>\n",
       "      <td>195</td>\n",
       "      <td>194</td>\n",
       "      <td>195</td>\n",
       "    </tr>\n",
       "    <tr>\n",
       "      <th>3</th>\n",
       "      <td>2</td>\n",
       "      <td>211</td>\n",
       "      <td>211</td>\n",
       "      <td>212</td>\n",
       "      <td>212</td>\n",
       "      <td>211</td>\n",
       "      <td>210</td>\n",
       "      <td>211</td>\n",
       "      <td>210</td>\n",
       "      <td>210</td>\n",
       "      <td>...</td>\n",
       "      <td>235</td>\n",
       "      <td>234</td>\n",
       "      <td>233</td>\n",
       "      <td>231</td>\n",
       "      <td>230</td>\n",
       "      <td>226</td>\n",
       "      <td>225</td>\n",
       "      <td>222</td>\n",
       "      <td>229</td>\n",
       "      <td>163</td>\n",
       "    </tr>\n",
       "    <tr>\n",
       "      <th>4</th>\n",
       "      <td>13</td>\n",
       "      <td>164</td>\n",
       "      <td>167</td>\n",
       "      <td>170</td>\n",
       "      <td>172</td>\n",
       "      <td>176</td>\n",
       "      <td>179</td>\n",
       "      <td>180</td>\n",
       "      <td>184</td>\n",
       "      <td>185</td>\n",
       "      <td>...</td>\n",
       "      <td>92</td>\n",
       "      <td>105</td>\n",
       "      <td>105</td>\n",
       "      <td>108</td>\n",
       "      <td>133</td>\n",
       "      <td>163</td>\n",
       "      <td>157</td>\n",
       "      <td>163</td>\n",
       "      <td>164</td>\n",
       "      <td>179</td>\n",
       "    </tr>\n",
       "  </tbody>\n",
       "</table>\n",
       "<p>5 rows × 785 columns</p>\n",
       "</div>"
      ],
      "text/plain": [
       "   label  pixel1  pixel2  pixel3  pixel4  pixel5  pixel6  pixel7  pixel8  \\\n",
       "0      3     107     118     127     134     139     143     146     150   \n",
       "1      6     155     157     156     156     156     157     156     158   \n",
       "2      2     187     188     188     187     187     186     187     188   \n",
       "3      2     211     211     212     212     211     210     211     210   \n",
       "4     13     164     167     170     172     176     179     180     184   \n",
       "\n",
       "   pixel9  ...  pixel775  pixel776  pixel777  pixel778  pixel779  pixel780  \\\n",
       "0     153  ...       207       207       207       207       206       206   \n",
       "1     158  ...        69       149       128        87        94       163   \n",
       "2     187  ...       202       201       200       199       198       199   \n",
       "3     210  ...       235       234       233       231       230       226   \n",
       "4     185  ...        92       105       105       108       133       163   \n",
       "\n",
       "   pixel781  pixel782  pixel783  pixel784  \n",
       "0       206       204       203       202  \n",
       "1       175       103       135       149  \n",
       "2       198       195       194       195  \n",
       "3       225       222       229       163  \n",
       "4       157       163       164       179  \n",
       "\n",
       "[5 rows x 785 columns]"
      ]
     },
     "execution_count": 2,
     "metadata": {},
     "output_type": "execute_result"
    }
   ],
   "source": [
    "df = pd.read_csv('sign_mnist.csv')\n",
    "df.head()"
   ]
  },
  {
   "cell_type": "markdown",
   "id": "a991850d",
   "metadata": {},
   "source": [
    "Checking number of columns and rows"
   ]
  },
  {
   "cell_type": "code",
   "execution_count": 3,
   "id": "7e012605",
   "metadata": {},
   "outputs": [
    {
     "name": "stdout",
     "output_type": "stream",
     "text": [
      "(10000, 785)\n"
     ]
    }
   ],
   "source": [
    "print(df.shape)"
   ]
  },
  {
   "cell_type": "markdown",
   "id": "2d4f18f3",
   "metadata": {},
   "source": [
    "Assigning Independent variables to x and dependent variable to y"
   ]
  },
  {
   "cell_type": "code",
   "execution_count": 4,
   "id": "53ab87a2",
   "metadata": {},
   "outputs": [],
   "source": [
    "x = df.iloc[:, 1:]\n",
    "y = df.iloc[:, 0]"
   ]
  },
  {
   "cell_type": "markdown",
   "id": "e12b508a",
   "metadata": {},
   "source": [
    "Demensions of Independent and Dependent variables"
   ]
  },
  {
   "cell_type": "code",
   "execution_count": 5,
   "id": "c9f2fc4b",
   "metadata": {},
   "outputs": [
    {
     "name": "stdout",
     "output_type": "stream",
     "text": [
      "(10000, 784)\n",
      "(10000,)\n"
     ]
    }
   ],
   "source": [
    "print(x.shape)\n",
    "print(y.shape)"
   ]
  },
  {
   "cell_type": "markdown",
   "id": "2a9bc961",
   "metadata": {},
   "source": [
    "Principle Component Analysis (PCA) is used to reduce the demensions of the independent variable (x), since we dont know how many number of components to reduce simply following the variance - covaraince rule of PCA algorithm which is ranging between 0.95 to 0.99, this automatically reduces to the best demensions possible."
   ]
  },
  {
   "cell_type": "code",
   "execution_count": 6,
   "id": "6d2dbd27",
   "metadata": {},
   "outputs": [
    {
     "name": "stdout",
     "output_type": "stream",
     "text": [
      "(10000, 112)\n"
     ]
    }
   ],
   "source": [
    "pca = PCA(n_components=0.95)\n",
    "pca.fit(x)\n",
    "x_pca = pca.transform(x)\n",
    "print(x_pca.shape)"
   ]
  },
  {
   "cell_type": "markdown",
   "id": "470d4c54",
   "metadata": {},
   "source": [
    "Our columns has been reduced from 784 to 112 after applying PCA"
   ]
  },
  {
   "cell_type": "markdown",
   "id": "a3a66e7f",
   "metadata": {},
   "source": [
    "Splitting the dataset into training 80% and test sets into 20%"
   ]
  },
  {
   "cell_type": "code",
   "execution_count": 7,
   "id": "b55bdeeb",
   "metadata": {},
   "outputs": [],
   "source": [
    "x_train, x_test, y_train, y_test = train_test_split(\n",
    "    x_pca, y, test_size=0.2, random_state=42)"
   ]
  },
  {
   "cell_type": "markdown",
   "id": "abce5d46",
   "metadata": {},
   "source": [
    "Standardization of independent variable x - mean to 0 and standard deviation to 1"
   ]
  },
  {
   "cell_type": "code",
   "execution_count": 8,
   "id": "b9c8a173",
   "metadata": {},
   "outputs": [],
   "source": [
    "scaler = StandardScaler()\n",
    "x_train_scaled = scaler.fit_transform(x_train)\n",
    "x_test_scaled = scaler.fit_transform(x_test)"
   ]
  },
  {
   "cell_type": "markdown",
   "id": "1198a84c",
   "metadata": {},
   "source": [
    "## Stochastic Gradient Descent Classifier "
   ]
  },
  {
   "cell_type": "markdown",
   "id": "6003ee88",
   "metadata": {},
   "source": [
    "Here, we are using loss function as log which is better in Classification algorithms."
   ]
  },
  {
   "cell_type": "code",
   "execution_count": 9,
   "id": "627d9f0f",
   "metadata": {},
   "outputs": [],
   "source": [
    "sgd = SGDClassifier(loss='log', shuffle=True, random_state=42)"
   ]
  },
  {
   "cell_type": "markdown",
   "id": "8bf9d9ef",
   "metadata": {},
   "source": [
    "Fitting the data and predicting the data using test sets and training sets"
   ]
  },
  {
   "cell_type": "code",
   "execution_count": 10,
   "id": "ea231b9b",
   "metadata": {},
   "outputs": [],
   "source": [
    "sgd.fit(x_train_scaled, y_train)\n",
    "y_pred = sgd.predict(x_test_scaled)\n",
    "y_train_pred = sgd.predict(x_train_scaled)"
   ]
  },
  {
   "cell_type": "markdown",
   "id": "0f47b053",
   "metadata": {},
   "source": [
    "using sklearn.metrics we use accuracy_score function to get the percentage accuracy of model, normally we use confusion matrix for classification algorithms since we already standardiized our data we are using accuracy as our metrics."
   ]
  },
  {
   "cell_type": "code",
   "execution_count": 11,
   "id": "9814627a",
   "metadata": {},
   "outputs": [],
   "source": [
    "acc_score_test = accuracy_score(\n",
    "    y_test, y_pred, normalize=True, sample_weight=None)\n",
    "acc_score_train = accuracy_score(\n",
    "    y_train, y_train_pred, normalize=True, sample_weight=None)"
   ]
  },
  {
   "cell_type": "code",
   "execution_count": 12,
   "id": "10148ebf",
   "metadata": {},
   "outputs": [
    {
     "name": "stdout",
     "output_type": "stream",
     "text": [
      "Stochastic gradient descent performance metrics :\n",
      "Accuracy score for test set: 88.35\n",
      "Accuracy score for train set: 94.875\n"
     ]
    }
   ],
   "source": [
    "print('Stochastic gradient descent performance metrics :')\n",
    "print('Accuracy score for test set:', acc_score_test*100)\n",
    "print('Accuracy score for train set:', acc_score_train*100)"
   ]
  },
  {
   "cell_type": "markdown",
   "id": "6b92a300",
   "metadata": {},
   "source": [
    "## Decision Tree Classifier"
   ]
  },
  {
   "cell_type": "markdown",
   "id": "b00500a5",
   "metadata": {},
   "source": [
    "Since our columns are 112 after dimensionality reduction, max_depth  is the depth of tree or the level of the tree = n/2 which is 112/2 = 51, max_depth = 51"
   ]
  },
  {
   "cell_type": "code",
   "execution_count": 13,
   "id": "a836cc55",
   "metadata": {},
   "outputs": [
    {
     "name": "stdout",
     "output_type": "stream",
     "text": [
      "Decision tree classifier performance metrics :\n",
      "Accuracy score for test set: 88.44999999999999\n",
      "Accuracy score for train set: 100.0\n"
     ]
    }
   ],
   "source": [
    "dtc = DecisionTreeClassifier(max_depth=51, random_state=42)\n",
    "dtc.fit(x_train_scaled, y_train)\n",
    "y_pred_dtc = dtc.predict(x_test_scaled)\n",
    "y_train_pred_dtc = dtc.predict(x_train_scaled)\n",
    "\n",
    "print('Decision tree classifier performance metrics :')\n",
    "print('Accuracy score for test set:', accuracy_score(y_test, y_pred_dtc)*100)\n",
    "print('Accuracy score for train set:',\n",
    "      accuracy_score(y_train, y_train_pred_dtc)*100)"
   ]
  },
  {
   "cell_type": "markdown",
   "id": "494368b9",
   "metadata": {},
   "source": [
    "## Random Forest Classifier"
   ]
  },
  {
   "cell_type": "markdown",
   "id": "179d96ed",
   "metadata": {},
   "source": [
    "Here, n_estimators is the number of different trees we want to create and train the model therefore n_estimators = 10 means we want 10 trees and max_depth = 51 is same as before which we used."
   ]
  },
  {
   "cell_type": "code",
   "execution_count": 14,
   "id": "cbe35698",
   "metadata": {},
   "outputs": [
    {
     "name": "stdout",
     "output_type": "stream",
     "text": [
      "Random Forest Classifier performance metrics :\n",
      "Accuracy score for test set: 99.65\n",
      "Accuracy score for train set: 99.9875\n"
     ]
    }
   ],
   "source": [
    "rfc = RandomForestClassifier(n_estimators=10, max_depth=51, random_state=42)\n",
    "rfc.fit(x_train_scaled, y_train)\n",
    "y_pred_rfc = rfc.predict(x_test_scaled)\n",
    "y_train_pred_rfc = rfc.predict(x_train_scaled)\n",
    "\n",
    "print('Random Forest Classifier performance metrics :')\n",
    "print('Accuracy score for test set:', accuracy_score(y_test, y_pred_rfc)*100)\n",
    "print('Accuracy score for train set:',\n",
    "      accuracy_score(y_train, y_train_pred_rfc)*100)"
   ]
  },
  {
   "cell_type": "markdown",
   "id": "46f72dc3",
   "metadata": {},
   "source": [
    "### Finally, comparing our performance metrics of 3 different Classifiers"
   ]
  },
  {
   "cell_type": "markdown",
   "id": "90253734",
   "metadata": {},
   "source": [
    "Stochastic gradient descent has 88.35 %\n",
    "\n",
    "Decision tree classifier has 88.44 %\n",
    "\n",
    "Random Forest Classifier has 99.65 %\n",
    "\n",
    "\n",
    "\n",
    "Since, Random Forest Classifier has highest accuracy of 99.65 %. Out of the 3 Classifiers, we could say Random Forest Classifiers is the best."
   ]
  },
  {
   "cell_type": "code",
   "execution_count": null,
   "id": "b2e66610",
   "metadata": {},
   "outputs": [],
   "source": []
  }
 ],
 "metadata": {
  "kernelspec": {
   "display_name": "Python 3",
   "language": "python",
   "name": "python3"
  },
  "language_info": {
   "codemirror_mode": {
    "name": "ipython",
    "version": 3
   },
   "file_extension": ".py",
   "mimetype": "text/x-python",
   "name": "python",
   "nbconvert_exporter": "python",
   "pygments_lexer": "ipython3",
   "version": "3.8.5"
  }
 },
 "nbformat": 4,
 "nbformat_minor": 5
}
